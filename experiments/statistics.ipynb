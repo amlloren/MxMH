{
 "cells": [
  {
   "cell_type": "markdown",
   "id": "49c9984a",
   "metadata": {},
   "source": [
    "# Statistical Findings"
   ]
  },
  {
   "cell_type": "markdown",
   "id": "0e2ddb73",
   "metadata": {},
   "source": [
    "## Descriptive Statistics\n",
    "\n",
    "Descriptive statistics summariza data, such as calculating the percentage of thefts in a specific borough."
   ]
  },
  {
   "cell_type": "markdown",
   "id": "63f9de3e",
   "metadata": {},
   "source": [
    "## Inferential Statistics\n",
    "\n",
    "Inferential statistics use a sample to draw conclusions about a population, like inferring the percentage of people influenced by social media advertising based on a survey."
   ]
  }
 ],
 "metadata": {
  "kernelspec": {
   "display_name": "dsi_participant",
   "language": "python",
   "name": "python3"
  },
  "language_info": {
   "name": "python",
   "version": "3.9.18"
  }
 },
 "nbformat": 4,
 "nbformat_minor": 5
}
