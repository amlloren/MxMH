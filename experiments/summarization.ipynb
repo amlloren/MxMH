{
 "cells": [
  {
   "cell_type": "markdown",
   "metadata": {},
   "source": [
    "# Understanding the Raw Data"
   ]
  },
  {
   "cell_type": "markdown",
   "metadata": {},
   "source": [
    "# 1. Schema\n",
    "\n",
    "\n",
    "\n",
    "\n",
    "### Block 0 - Backround\n",
    "Respondents answer generic questions focused on musical background and listening habits.\n",
    "\n",
    "| column | description |\n",
    "|:------:|:------------|\n",
    "| Timestamp | Date and time when form was submitted |\n",
    "| Age | Respondent's age |\n",
    "| Primary streaming service | Respondent's primary streaming service |\n",
    "| Hours per day | Number of hours the respondent listens to music per day |\n",
    "| While working | Does the respondent listen to music while studying/working? |\n",
    "| Instrumentalist | Does the respondent play an instrument regularly? |\n",
    "| Composer | Does the respondent compose music? |\n",
    "| Fav genre | Respondent's favorite or top genre |\n",
    "| Exploratory | Does the respondent actively explore new artists/genres? |\n",
    "| Foreign languages | Does the respondent regularly listen to music with lyrics in a language they are not fluent in? |\n",
    "| BPM | Beats per minute of favorite genre |\n",
    "\n",
    "### Block 1 - Music Genres\n",
    "Respondents rank how often they listen to 16 music genres, where they can select: Never, Rarely, Sometimes or Very frequently\n",
    "\n",
    "| column | description |\n",
    "|:------:|:------------|\n",
    "| Frequency [Classical] | How frequently the respondent listens to classical music |\n",
    "| Frequency [Country] | How frequently the respondent listens to country music |\n",
    "| Frequency [EDM] | How frequently the respondent listens to EDM music |\n",
    "| Frequency [Folk] | How frequently the respondent listens to folks music |\n",
    "| Frequency [Gospel] | How frequently the respondent listens to Gospel music |\n",
    "| Frequency [Hip hop] | How frequently the respondent listens to hip hop music |\n",
    "| Frequency [Jazz] | How frequently the respondent listens to jazz music |\n",
    "| Frequency [K pop] | How frequently the respondent listens to K pop music |\n",
    "| Frequency [Latin] | How frequently the respondent listens to Latin music |\n",
    "| Frequency [Lofi] | How frequently the respondent listens to lofi music |\n",
    "| Frequency [Metal] | How frequently the respondent listens to metal music |\n",
    "| Frequency [Pop] | How frequently the respondent listens to pop music |\n",
    "| Frequency [R&B] | How frequently the respondent listens to R&B music |\n",
    "| Frequency [Rap] | How frequently the respondent listens to rap music |\n",
    "| Frequency [Rock] | How frequently the respondent listens to rock music |\n",
    "| Frequency [Video game music] | How frequently the respondent listens to video game music |\n",
    "\n",
    "### Block 2: Mental Health\n",
    "Respondents rank Anxiety, Depression, Insomnia, and OCD on a scale of 0 to 10, where:\n",
    "* 0 - I do not experience this.\n",
    "* 10 - I experience this regularly, constantly/or to an extreme.\n",
    "\n",
    "| column | description |\n",
    "|:------:|:------------|\n",
    "| Anxiety | Self-reported anxiety, on a scale of 0-10 |\n",
    "| Depression | Self-reported depression, on a scale of 0-10 |\n",
    "| Insomnia | Self-reported insomnia, on a scale of 0-10 |\n",
    "| OCD | Self-reported OCD, on a scale of 0-10 |\n",
    "| Music effects | Does music improve/worsen respondent's mental health conditions? |\n",
    "\n",
    "Additional data that does not fall in these blocks may provide useful background information. See column descriptors."
   ]
  },
  {
   "cell_type": "markdown",
   "metadata": {},
   "source": [
    "# 2. Exploring the Data"
   ]
  },
  {
   "cell_type": "markdown",
   "metadata": {},
   "source": [
    "## General Characteristics (Block 0)\n",
    "\n",
    "| question | analysis |\n",
    "|----------|----------|\n",
    "| How many entries are in this survey result? | There are 736 results for this survey |\n",
    "| What is the age range in this survey result? | The age range is 10 to 89 years old |\n",
    "| How many instrumentalists? | The number of Instrumentalists are 235 |\n",
    "| How many composers? | The number of Composers are 126 |\n",
    "| How many active genre explorers | The number of Exploratory music listeners are 525|\n",
    "| How many foreign languages listeners | The number of Foreign languages music listeners are 404 |\n",
    "| How many listen to music while working? | The number of While working music listeners are 579 |"
   ]
  },
  {
   "cell_type": "markdown",
   "metadata": {},
   "source": [
    "## General Characteristics (Block 1)\n",
    "\n",
    "| question | analysis |\n",
    "|----------|:--------:|\n",
    "| How many genres are explored in this dataset? | There are 16 genres | \n",
    "| What is the 'Very frequently' listened to genre? | Rock |\n",
    "| What is the 'Sometimes' listened to genre? | Pop |\n",
    "| What is the 'Rarely' listened to genre? | Classical |\n",
    "| What is the 'Never' listened to genre? | Gospel |\n",
    "    "
   ]
  },
  {
   "cell_type": "markdown",
   "metadata": {},
   "source": [
    "#### Load the data and necessary libraries"
   ]
  },
  {
   "cell_type": "code",
   "execution_count": 37,
   "metadata": {},
   "outputs": [],
   "source": [
    "# Load the necessary libraries\n",
    "import pandas as pd\n",
    "import numpy as np\n",
    "import matplotlib.pyplot as plt\n",
    "import seaborn as sns\n",
    "\n",
    "# Suppress unneccesary warnings\n",
    "import warnings\n",
    "warnings.filterwarnings('ignore')\n",
    "sns.set(color_codes = True)   \n",
    "sns.set_palette(palette = 'magma', n_colors = 8)\n",
    "\n",
    "# Load the dataset\n",
    "data = pd.read_csv('../../music_mental_health/data/mxmh_survey_results.csv')\n",
    "df = data.copy()"
   ]
  },
  {
   "cell_type": "markdown",
   "metadata": {},
   "source": [
    "#### Supporting Python Code (Block 0):"
   ]
  },
  {
   "cell_type": "code",
   "execution_count": 35,
   "metadata": {},
   "outputs": [
    {
     "name": "stdout",
     "output_type": "stream",
     "text": [
      "Total number of entries: 736\n",
      "Age Range: (10.0, 89.0)\n",
      "The number of Instrumentalists: 235.0\n",
      "The number of Composers: 126.0\n",
      "The number of Exploratory music listeners: 525\n",
      "The number of Foreign languages music listeners: 404.0\n",
      "The number of While working music listeners: 579.0\n"
     ]
    }
   ],
   "source": [
    "# Find the number of survey entries\n",
    "total_entries = len(df)\n",
    "\n",
    "# Find the age range of this dataset\n",
    "age_range = (df['Age'].min(), df['Age'].max())\n",
    "\n",
    "# Display the results\n",
    "print(\"Total number of entries:\", total_entries)\n",
    "print(\"Age Range:\", age_range)\n",
    "\n",
    "# Define a function to count how many entries say \"Yes\" in a single column\n",
    "def column_count(df, column):\n",
    "    return df[column].str.count('Yes').sum()\n",
    "\n",
    "# Specify the column to count \"Yes\" responses\n",
    "column_1 = 'Instrumentalist'\n",
    "column_2 = 'Composer'\n",
    "column_3 = 'Exploratory'\n",
    "column_4 = 'Foreign languages'\n",
    "column_5 = 'While working'\n",
    "\n",
    "# Show results of column counts\n",
    "num_inst = column_count(df, column_1)\n",
    "print(f\"The number of {column_1}s:\", num_inst)\n",
    "\n",
    "num_comp = column_count(df, column_2)\n",
    "print(f\"The number of {column_2}s:\", num_comp)\n",
    "\n",
    "num_expl = column_count(df, column_3)\n",
    "print(f\"The number of {column_3} music listeners:\", num_expl)\n",
    "\n",
    "num_fore = column_count(df, column_4)\n",
    "print(f\"The number of {column_4} music listeners:\", num_fore)\n",
    "\n",
    "num_work = column_count(df, column_5)\n",
    "print(f\"The number of {column_5} music listeners:\", num_work)\n"
   ]
  },
  {
   "cell_type": "markdown",
   "metadata": {},
   "source": [
    "#### Supporting Python Code (Block 1):"
   ]
  },
  {
   "cell_type": "code",
   "execution_count": 34,
   "metadata": {},
   "outputs": [
    {
     "name": "stdout",
     "output_type": "stream",
     "text": [
      "Columns with the highest count for each value:\n",
      "Never                 Frequency [Gospel]\n",
      "Rarely             Frequency [Classical]\n",
      "Sometimes                Frequency [Pop]\n",
      "Very frequently         Frequency [Rock]\n",
      "dtype: object\n"
     ]
    }
   ],
   "source": [
    "# List of columns to explore\n",
    "genre_columns = [\n",
    "    \"Frequency [Classical]\", \"Frequency [Country]\", \"Frequency [EDM]\",\n",
    "    \"Frequency [Folk]\", \"Frequency [Gospel]\", \"Frequency [Hip hop]\",\n",
    "    \"Frequency [Jazz]\", \"Frequency [K pop]\", \"Frequency [Latin]\",\n",
    "    \"Frequency [Lofi]\", \"Frequency [Metal]\", \"Frequency [Pop]\",\n",
    "    \"Frequency [R&B]\", \"Frequency [Rap]\", \"Frequency [Rock]\"\n",
    "]\n",
    "\n",
    "# Values to count\n",
    "values_to_count = [\"Never\", \"Rarely\", \"Sometimes\", \"Very frequently\"]\n",
    "\n",
    "# Summarize the counts for each value across all columns\n",
    "value_counts = {value: {col: df[col].str.count(value).sum() for col in genre_columns} for value in values_to_count}\n",
    "\n",
    "# Convert to a DataFrame for better visualization\n",
    "summary_df = pd.DataFrame(value_counts)\n",
    "\n",
    "# Find the columns with the highest counts for each value\n",
    "max_counts = summary_df.idxmax()\n",
    "\n",
    "print(\"Columns with the highest count for each value:\")\n",
    "print(max_counts)\n"
   ]
  }
 ],
 "metadata": {
  "kernelspec": {
   "display_name": "dsi_participant",
   "language": "python",
   "name": "python3"
  },
  "language_info": {
   "codemirror_mode": {
    "name": "ipython",
    "version": 3
   },
   "file_extension": ".py",
   "mimetype": "text/x-python",
   "name": "python",
   "nbconvert_exporter": "python",
   "pygments_lexer": "ipython3",
   "version": "3.9.18"
  }
 },
 "nbformat": 4,
 "nbformat_minor": 2
}
