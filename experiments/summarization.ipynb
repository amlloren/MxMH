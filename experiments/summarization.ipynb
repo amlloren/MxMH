{
 "cells": [
  {
   "cell_type": "markdown",
   "metadata": {},
   "source": [
    "# Understanding the Raw Data"
   ]
  },
  {
   "cell_type": "markdown",
   "metadata": {},
   "source": [
    "# 1. Schema\n",
    "\n",
    "\n",
    "\n",
    "\n",
    "### Block 0 - Backround\n",
    "Respondents answer generic questions focused on musical background and listening habits.\n",
    "\n",
    "| column | description |\n",
    "|:------:|:------------|\n",
    "| Timestamp | Date and time when form was submitted |\n",
    "| Age | Respondent's age |\n",
    "| Primary streaming service | Respondent's primary streaming service |\n",
    "| Hours per day | Number of hours the respondent listens to music per day |\n",
    "| While working | Does the respondent listen to music while studying/working? |\n",
    "| Instrumentalist | Does the respondent play an instrument regularly? |\n",
    "| Composer | Does the respondent compose music? |\n",
    "| Fav genre | Respondent's favorite or top genre |\n",
    "| Exploratory | Does the respondent actively explore new artists/genres? |\n",
    "| Foreign languages | Does the respondent regularly listen to music with lyrics in a language they are not fluent in? |\n",
    "| BPM | Beats per minute of favorite genre |\n",
    "\n",
    "### Block 1 - Music Genres\n",
    "Respondents rank how often they listen to 16 music genres, where they can select: Never, Rarely, Sometimes or Very frequently\n",
    "\n",
    "| column | description |\n",
    "|:------:|:------------|\n",
    "| Frequency [Classical] | How frequently the respondent listens to classical music |\n",
    "| Frequency [Country] | How frequently the respondent listens to country music |\n",
    "| Frequency [EDM] | How frequently the respondent listens to EDM music |\n",
    "| Frequency [Folk] | How frequently the respondent listens to folks music |\n",
    "| Frequency [Gospel] | How frequently the respondent listens to Gospel music |\n",
    "| Frequency [Hip hop] | How frequently the respondent listens to hip hop music |\n",
    "| Frequency [Jazz] | How frequently the respondent listens to jazz music |\n",
    "| Frequency [K pop] | How frequently the respondent listens to K pop music |\n",
    "| Frequency [Latin] | How frequently the respondent listens to Latin music |\n",
    "| Frequency [Lofi] | How frequently the respondent listens to lofi music |\n",
    "| Frequency [Metal] | How frequently the respondent listens to metal music |\n",
    "| Frequency [Pop] | How frequently the respondent listens to pop music |\n",
    "| Frequency [R&B] | How frequently the respondent listens to R&B music |\n",
    "| Frequency [Rap] | How frequently the respondent listens to rap music |\n",
    "| Frequency [Rock] | How frequently the respondent listens to rock music |\n",
    "| Frequency [Video game music] | How frequently the respondent listens to video game music |\n",
    "\n",
    "### Block 2: Mental Health\n",
    "Respondents rank Anxiety, Depression, Insomnia, and OCD on a scale of 0 to 10, where:\n",
    "* 0 - I do not experience this.\n",
    "* 10 - I experience this regularly, constantly/or to an extreme.\n",
    "\n",
    "| column | description |\n",
    "|:------:|:------------|\n",
    "| Anxiety | Self-reported anxiety, on a scale of 0-10 |\n",
    "| Depression | Self-reported depression, on a scale of 0-10 |\n",
    "| Insomnia | Self-reported insomnia, on a scale of 0-10 |\n",
    "| OCD | Self-reported OCD, on a scale of 0-10 |\n",
    "| Music effects | Does music improve/worsen respondent's mental health conditions? |\n",
    "\n",
    "Additional data that does not fall in these blocks may provide useful background information. See column descriptors."
   ]
  },
  {
   "cell_type": "code",
   "execution_count": null,
   "metadata": {},
   "outputs": [],
   "source": []
  },
  {
   "cell_type": "code",
   "execution_count": null,
   "metadata": {},
   "outputs": [],
   "source": []
  },
  {
   "cell_type": "markdown",
   "metadata": {},
   "source": [
    "#### Load the data and necessary libraries"
   ]
  },
  {
   "cell_type": "code",
   "execution_count": null,
   "metadata": {},
   "outputs": [],
   "source": [
    "# Load the necessary libraries\n",
    "import pandas as pd\n",
    "import numpy as np\n",
    "\n",
    "# Load the dataset\n",
    "data = pd.read_csv('../../music_mental_health/data/mxmh_survey_results.csv')\n",
    "df = data.copy()"
   ]
  }
 ],
 "metadata": {
  "kernelspec": {
   "display_name": "dsi_participant",
   "language": "python",
   "name": "python3"
  },
  "language_info": {
   "codemirror_mode": {
    "name": "ipython",
    "version": 3
   },
   "file_extension": ".py",
   "mimetype": "text/x-python",
   "name": "python",
   "nbconvert_exporter": "python",
   "pygments_lexer": "ipython3",
   "version": "3.9.18"
  }
 },
 "nbformat": 4,
 "nbformat_minor": 2
}
