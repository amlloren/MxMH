{
 "cells": [
  {
   "cell_type": "markdown",
   "metadata": {},
   "source": [
    "#### Load the data"
   ]
  },
  {
   "cell_type": "code",
   "execution_count": 6,
   "metadata": {},
   "outputs": [],
   "source": [
    "import pandas as pd\n",
    "import numpy as np\n",
    "import seaborn as sns\n",
    "import matplotlib.pyplot as plt\n",
    "\n",
    "# Load the dataset\n",
    "data = '../music_mental_health/data/mxmh_survey_results.csv'\n",
    "survey_df = pd.read_csv(data)"
   ]
  },
  {
   "cell_type": "markdown",
   "metadata": {},
   "source": [
    "#### Aggregate the Data"
   ]
  },
  {
   "cell_type": "code",
   "execution_count": 7,
   "metadata": {},
   "outputs": [],
   "source": [
    "# Specify the columns to aggregate\n",
    "filtered_columns = ['Instrumentalist', 'Composer', 'Music effects', 'Hours per day', 'Anxiety', 'Depression', 'Insomnia', 'OCD']\n",
    "\n",
    "# Create the aggregated DataFrame\n",
    "filtered_df = survey_df[filtered_columns].dropna()\n",
    "\n",
    "# Save the aggregated DataFrame to a new file\n",
    "filtered_df.to_csv('data/inst_v_comp.csv', index=False)"
   ]
  },
  {
   "cell_type": "markdown",
   "metadata": {},
   "source": [
    "#### Preview the Aggregated Data"
   ]
  },
  {
   "cell_type": "code",
   "execution_count": 8,
   "metadata": {},
   "outputs": [
    {
     "data": {
      "text/html": [
       "<div>\n",
       "<style scoped>\n",
       "    .dataframe tbody tr th:only-of-type {\n",
       "        vertical-align: middle;\n",
       "    }\n",
       "\n",
       "    .dataframe tbody tr th {\n",
       "        vertical-align: top;\n",
       "    }\n",
       "\n",
       "    .dataframe thead th {\n",
       "        text-align: right;\n",
       "    }\n",
       "</style>\n",
       "<table border=\"1\" class=\"dataframe\">\n",
       "  <thead>\n",
       "    <tr style=\"text-align: right;\">\n",
       "      <th></th>\n",
       "      <th>Instrumentalist</th>\n",
       "      <th>Composer</th>\n",
       "      <th>Music effects</th>\n",
       "      <th>Hours per day</th>\n",
       "      <th>Anxiety</th>\n",
       "      <th>Depression</th>\n",
       "      <th>Insomnia</th>\n",
       "      <th>OCD</th>\n",
       "    </tr>\n",
       "  </thead>\n",
       "  <tbody>\n",
       "    <tr>\n",
       "      <th>2</th>\n",
       "      <td>No</td>\n",
       "      <td>No</td>\n",
       "      <td>No effect</td>\n",
       "      <td>4.0</td>\n",
       "      <td>7.0</td>\n",
       "      <td>7.0</td>\n",
       "      <td>10.0</td>\n",
       "      <td>2.0</td>\n",
       "    </tr>\n",
       "    <tr>\n",
       "      <th>3</th>\n",
       "      <td>No</td>\n",
       "      <td>Yes</td>\n",
       "      <td>Improve</td>\n",
       "      <td>2.5</td>\n",
       "      <td>9.0</td>\n",
       "      <td>7.0</td>\n",
       "      <td>3.0</td>\n",
       "      <td>3.0</td>\n",
       "    </tr>\n",
       "    <tr>\n",
       "      <th>4</th>\n",
       "      <td>No</td>\n",
       "      <td>No</td>\n",
       "      <td>Improve</td>\n",
       "      <td>4.0</td>\n",
       "      <td>7.0</td>\n",
       "      <td>2.0</td>\n",
       "      <td>5.0</td>\n",
       "      <td>9.0</td>\n",
       "    </tr>\n",
       "    <tr>\n",
       "      <th>5</th>\n",
       "      <td>Yes</td>\n",
       "      <td>Yes</td>\n",
       "      <td>Improve</td>\n",
       "      <td>5.0</td>\n",
       "      <td>8.0</td>\n",
       "      <td>8.0</td>\n",
       "      <td>7.0</td>\n",
       "      <td>7.0</td>\n",
       "    </tr>\n",
       "    <tr>\n",
       "      <th>6</th>\n",
       "      <td>Yes</td>\n",
       "      <td>No</td>\n",
       "      <td>Improve</td>\n",
       "      <td>3.0</td>\n",
       "      <td>4.0</td>\n",
       "      <td>8.0</td>\n",
       "      <td>6.0</td>\n",
       "      <td>0.0</td>\n",
       "    </tr>\n",
       "  </tbody>\n",
       "</table>\n",
       "</div>"
      ],
      "text/plain": [
       "  Instrumentalist Composer Music effects  Hours per day  Anxiety  Depression  \\\n",
       "2              No       No     No effect            4.0      7.0         7.0   \n",
       "3              No      Yes       Improve            2.5      9.0         7.0   \n",
       "4              No       No       Improve            4.0      7.0         2.0   \n",
       "5             Yes      Yes       Improve            5.0      8.0         8.0   \n",
       "6             Yes       No       Improve            3.0      4.0         8.0   \n",
       "\n",
       "   Insomnia  OCD  \n",
       "2      10.0  2.0  \n",
       "3       3.0  3.0  \n",
       "4       5.0  9.0  \n",
       "5       7.0  7.0  \n",
       "6       6.0  0.0  "
      ]
     },
     "execution_count": 8,
     "metadata": {},
     "output_type": "execute_result"
    }
   ],
   "source": [
    "filtered_df.head()"
   ]
  },
  {
   "cell_type": "code",
   "execution_count": 32,
   "metadata": {},
   "outputs": [
    {
     "data": {
      "image/png": "[encoded data removed]",
      "text/plain": [
       "<Figure size 700x400 with 1 Axes>"
      ]
     },
     "metadata": {},
     "output_type": "display_data"
    },
    {
     "name": "stdout",
     "output_type": "stream",
     "text": [
      "Sum of Instrumentalists: 232\n",
      "Sum of Composers: 124\n",
      "Sum of Combined: 91\n"
     ]
    }
   ],
   "source": [
    "# Calculate the counts\n",
    "inst_yes = (filtered_df['Instrumentalist'] == 'Yes').sum()\n",
    "comp_yes = (filtered_df['Composer'] == 'Yes').sum()\n",
    "both_yes = ((filtered_df['Instrumentalist'] == 'Yes') & (filtered_df['Composer'] == 'Yes')).sum()\n",
    "\n",
    "# Create a dictionary for the counts\n",
    "counts = {\n",
    "    \"Instrumentalist\": inst_yes,\n",
    "    \"Composer\": comp_yes,\n",
    "    \"Instrumentalist & Composer\": both_yes\n",
    "}\n",
    "\n",
    "# Convert to a DataFrame for easier plotting\n",
    "counts_df = pd.DataFrame(list(counts.items()), columns=[\"Category\", \"Count\"])\n",
    "\n",
    "# Plot the bar chart\n",
    "plt.figure(figsize=(7, 4))\n",
    "plt.bar(counts_df['Category'], counts_df['Count'], color='#99C5B5')\n",
    "plt.title('Counts of \"Yes\" Answers', fontsize = 18)\n",
    "plt.xlabel('Category', fontsize = 14)\n",
    "plt.ylabel('Count', fontsize = 14)\n",
    "plt.show()\n",
    "\n",
    "print('Sum of Instrumentalists:', inst_yes)\n",
    "print('Sum of Composers:', comp_yes)\n",
    "print('Sum of Combined:', both_yes)"
   ]
  },
  {
   "cell_type": "code",
   "execution_count": 27,
   "metadata": {},
   "outputs": [
    {
     "data": {
      "image/png": "[encoded data removed]",
      "text/plain": [
       "<Figure size 700x400 with 1 Axes>"
      ]
     },
     "metadata": {},
     "output_type": "display_data"
    },
    {
     "name": "stdout",
     "output_type": "stream",
     "text": [
      "Sum of non-Instrumentalists: 493\n",
      "Sum of non-Composers: 601\n",
      "Sum of non-Combined: 460\n"
     ]
    }
   ],
   "source": [
    "# Calculate the counts\n",
    "inst_no = (filtered_df['Instrumentalist'] == 'No').sum()\n",
    "comp_no = (filtered_df['Composer'] == 'No').sum()\n",
    "both_no = ((filtered_df['Instrumentalist'] == 'No') & (filtered_df['Composer'] == 'No')).sum()\n",
    "\n",
    "# Create a dictionary for the counts\n",
    "no_counts = {\n",
    "    \"Instrumentalist\": inst_no,\n",
    "    \"Composer\": comp_no,\n",
    "    \"Instrumentalist & Composer\": both_no\n",
    "}\n",
    "\n",
    "# Convert to a DataFrame for easier plotting\n",
    "no_counts_df = pd.DataFrame(list(no_counts.items()), columns=[\"Category\", \"Count\"])\n",
    "\n",
    "# Plot the bar chart\n",
    "plt.figure(figsize=(7, 4))\n",
    "plt.bar(no_counts_df['Category'], no_counts_df['Count'], color='#706C61')\n",
    "plt.title('Counts of \"No\" Answers', fontsize = 18)\n",
    "plt.xlabel('Category', fontsize = 14)\n",
    "plt.ylabel('Count', fontsize = 14)\n",
    "plt.show()\n",
    "\n",
    "print('Sum of non-Instrumentalists:', inst_no)\n",
    "print('Sum of non-Composers:', comp_no)\n",
    "print('Sum of non-Combined:', both_no)"
   ]
  }
 ],
 "metadata": {
  "kernelspec": {
   "display_name": "dsi_participant",
   "language": "python",
   "name": "python3"
  },
  "language_info": {
   "codemirror_mode": {
    "name": "ipython",
    "version": 3
   },
   "file_extension": ".py",
   "mimetype": "text/x-python",
   "name": "python",
   "nbconvert_exporter": "python",
   "pygments_lexer": "ipython3",
   "version": "3.9.18"
  }
 },
 "nbformat": 4,
 "nbformat_minor": 2
}
